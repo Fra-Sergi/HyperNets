{
 "cells": [
  {
   "cell_type": "code",
   "execution_count": 1,
   "metadata": {},
   "outputs": [],
   "source": [
    "import torch\n",
    "import torch.nn as nn\n",
    "import numpy as np\n",
    "\n",
    "import math\n",
    "import time\n",
    "\n",
    "import torch\n",
    "from torch.autograd import Variable\n",
    "import torch.nn.functional as F\n",
    "import torch.utils.data as Data\n",
    "from torch.nn import init\n",
    "\n",
    "\n",
    "import matplotlib.pyplot as plt\n",
    "%matplotlib inline\n",
    "\n",
    "import numpy as np\n",
    "import imageio"
   ]
  },
  {
   "cell_type": "code",
   "execution_count": 2,
   "metadata": {},
   "outputs": [
    {
     "data": {
      "text/plain": [
       "'1.8.1+cu102'"
      ]
     },
     "execution_count": 2,
     "metadata": {},
     "output_type": "execute_result"
    }
   ],
   "source": [
    "torch.__version__"
   ]
  },
  {
   "cell_type": "code",
   "execution_count": null,
   "metadata": {},
   "outputs": [],
   "source": [
    "###############\n",
    "## PHC LAYER ##\n",
    "###############\n",
    "\n",
    "class PHConvLayer(nn.Module):\n",
    "    '''\n",
    "    Parameterized Hypercomplex Convolutional (PHC) Layer.\n",
    "    '''\n",
    "\n",
    "  def __init__(self, n, in_features, out_features, kernel_size, padding=1, stride=1):\n",
    "    super(PHMConvLayer, self).__init__()\n",
    "    self.n = n\n",
    "    self.in_features = in_features\n",
    "    self.out_features = out_features\n",
    "    self.padding = padding\n",
    "    self.stride = stride\n",
    "    \n",
    "\n",
    "    self.bias = nn.Parameter(torch.Tensor(out_features))\n",
    "    self.a = nn.Parameter(torch.nn.init.xavier_uniform_(torch.zeros((n, n, n))))\n",
    "    self.s = nn.Parameter(torch.nn.init.xavier_uniform_(\n",
    "        torch.zeros((n, self.out_features//n, self.in_features//n, kernel_size, kernel_size))))\n",
    "    self.weight = torch.zeros((self.out_features, self.in_features, kernel_size, kernel_size))\n",
    "    self.kernel_size = kernel_size\n",
    "\n",
    "    fan_in, _ = init._calculate_fan_in_and_fan_out(self.weight)\n",
    "    bound = 1 / math.sqrt(fan_in)\n",
    "    init.uniform_(self.bias, -bound, bound)\n",
    "\n",
    "\n",
    "  def kronecker_product1(self, a, b): \n",
    "    '''\n",
    "    Faster implementation for sum of Kronecker products.\n",
    "    '''\n",
    "    \n",
    "    siz1 = torch.Size(torch.tensor(a.shape[-2:]) * torch.tensor(b.shape[-4:-2]))\n",
    "    siz2 = torch.Size(torch.tensor(b.shape[-2:]))\n",
    "    res = a.unsqueeze(-1).unsqueeze(-3).unsqueeze(-1).unsqueeze(-1) * b.unsqueeze(-4).unsqueeze(-6)\n",
    "    siz0 = res.shape[:1]\n",
    "    out = res.reshape(siz0 + siz1 + siz2)\n",
    "    print(out.size())\n",
    "    return out\n",
    "\n",
    "  def kronecker_product2(self):\n",
    "    '''\n",
    "    Alternative implementation for sum of Kronecker products, SLOWER.\n",
    "    '''\n",
    "    \n",
    "    H = torch.zeros((self.out_features, self.in_features, self.kernel_size, self.kernel_size))\n",
    "    for i in range(self.n):\n",
    "        kron_prod = torch.kron(self.a[i], self.s[i]).view(self.out_features, self.in_features, self.kernel_size, self.kernel_size)\n",
    "        H = H + kron_prod\n",
    "    return H\n",
    "\n",
    "\n",
    "  def forward(self, input):\n",
    "    self.weight = torch.sum(self.kronecker_product1(self.a, self.s), dim=0)\n",
    "#     self.weight = self.kronecker_product2() # <-SLOWER\n",
    "    input = input.type(dtype=self.weight.type())\n",
    "    return F.conv2d(input, weight=self.weight, stride=self.stride, padding=self.padding)\n",
    "\n",
    "  def extra_repr(self) -> str:\n",
    "    return 'in_features={}, out_features={}, bias={}'.format(\n",
    "      self.in_features, self.out_features, self.bias is not None)\n",
    "    \n",
    "  def reset_parameters(self) -> None:\n",
    "    init.kaiming_uniform_(self.a, a=math.sqrt(5))\n",
    "    init.kaiming_uniform_(self.s, a=math.sqrt(5))\n",
    "    fan_in, _ = init._calculate_fan_in_and_fan_out(self.placeholder)\n",
    "    bound = 1 / math.sqrt(fan_in)\n",
    "    init.uniform_(self.bias, -bound, bound)"
   ]
  }
 ],
 "metadata": {
  "kernelspec": {
   "display_name": "Python 3",
   "language": "python",
   "name": "python3"
  },
  "language_info": {
   "codemirror_mode": {
    "name": "ipython",
    "version": 3
   },
   "file_extension": ".py",
   "mimetype": "text/x-python",
   "name": "python",
   "nbconvert_exporter": "python",
   "pygments_lexer": "ipython3",
   "version": "3.7.3"
  }
 },
 "nbformat": 4,
 "nbformat_minor": 2
}
